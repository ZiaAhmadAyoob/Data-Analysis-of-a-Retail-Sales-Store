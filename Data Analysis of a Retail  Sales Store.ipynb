{
 "cells": [
  {
   "cell_type": "markdown",
   "id": "3e50b6bf-d255-40ba-928f-1249e887f599",
   "metadata": {},
   "source": [
    "# Part 1: Data Cleaning & Preparation\n",
    "1. Load the CSV file using Pandas.\n",
    "2. Check for missing values and handle them appropriately.\n",
    "3. Convert the Order Date column to datetime format.\n",
    "4. Add a new column Month extracted from the date.\n",
    "5. Calculate Total Sales if not already in the dataset."
   ]
  },
  {
   "cell_type": "code",
   "execution_count": 2,
   "id": "ba07aa31-9111-4db2-9dd8-48176af88fb9",
   "metadata": {},
   "outputs": [],
   "source": [
    "import pandas as pd"
   ]
  },
  {
   "cell_type": "code",
   "execution_count": 4,
   "id": "797060fd-a030-4991-9288-f1ce79e297fd",
   "metadata": {},
   "outputs": [
    {
     "data": {
      "text/html": [
       "<div>\n",
       "<style scoped>\n",
       "    .dataframe tbody tr th:only-of-type {\n",
       "        vertical-align: middle;\n",
       "    }\n",
       "\n",
       "    .dataframe tbody tr th {\n",
       "        vertical-align: top;\n",
       "    }\n",
       "\n",
       "    .dataframe thead th {\n",
       "        text-align: right;\n",
       "    }\n",
       "</style>\n",
       "<table border=\"1\" class=\"dataframe\">\n",
       "  <thead>\n",
       "    <tr style=\"text-align: right;\">\n",
       "      <th></th>\n",
       "      <th>Order ID</th>\n",
       "      <th>Product Name</th>\n",
       "      <th>Category</th>\n",
       "      <th>City</th>\n",
       "      <th>Order Date</th>\n",
       "      <th>Units Sold</th>\n",
       "      <th>Unit Price</th>\n",
       "      <th>Total Sales</th>\n",
       "    </tr>\n",
       "  </thead>\n",
       "  <tbody>\n",
       "    <tr>\n",
       "      <th>0</th>\n",
       "      <td>1</td>\n",
       "      <td>Laptop</td>\n",
       "      <td>Electronics</td>\n",
       "      <td>Karachi</td>\n",
       "      <td>21-05-2023</td>\n",
       "      <td>7</td>\n",
       "      <td>39928.88</td>\n",
       "      <td>279502.16</td>\n",
       "    </tr>\n",
       "    <tr>\n",
       "      <th>1</th>\n",
       "      <td>2</td>\n",
       "      <td>Laptop</td>\n",
       "      <td>Electronics</td>\n",
       "      <td>NaN</td>\n",
       "      <td>14-02-2023</td>\n",
       "      <td>8</td>\n",
       "      <td>30133.59</td>\n",
       "      <td>241068.72</td>\n",
       "    </tr>\n",
       "    <tr>\n",
       "      <th>2</th>\n",
       "      <td>3</td>\n",
       "      <td>Laptop</td>\n",
       "      <td>Electronics</td>\n",
       "      <td>NaN</td>\n",
       "      <td>30-04-2023</td>\n",
       "      <td>7</td>\n",
       "      <td>22568.72</td>\n",
       "      <td>157981.04</td>\n",
       "    </tr>\n",
       "    <tr>\n",
       "      <th>3</th>\n",
       "      <td>4</td>\n",
       "      <td>Bluetooth Speaker</td>\n",
       "      <td>Electronics</td>\n",
       "      <td>Peshawar</td>\n",
       "      <td>03-08-2023</td>\n",
       "      <td>7</td>\n",
       "      <td>3375.14</td>\n",
       "      <td>23625.98</td>\n",
       "    </tr>\n",
       "    <tr>\n",
       "      <th>4</th>\n",
       "      <td>5</td>\n",
       "      <td>Wireless Mouse</td>\n",
       "      <td>Electronics</td>\n",
       "      <td>Lahore</td>\n",
       "      <td>24-12-2023</td>\n",
       "      <td>8</td>\n",
       "      <td>17018.58</td>\n",
       "      <td>136148.64</td>\n",
       "    </tr>\n",
       "    <tr>\n",
       "      <th>...</th>\n",
       "      <td>...</td>\n",
       "      <td>...</td>\n",
       "      <td>...</td>\n",
       "      <td>...</td>\n",
       "      <td>...</td>\n",
       "      <td>...</td>\n",
       "      <td>...</td>\n",
       "      <td>...</td>\n",
       "    </tr>\n",
       "    <tr>\n",
       "      <th>95</th>\n",
       "      <td>96</td>\n",
       "      <td>Backpack</td>\n",
       "      <td>Fashion</td>\n",
       "      <td>Islamabad</td>\n",
       "      <td>17-02-2023</td>\n",
       "      <td>2</td>\n",
       "      <td>41966.65</td>\n",
       "      <td>83933.30</td>\n",
       "    </tr>\n",
       "    <tr>\n",
       "      <th>96</th>\n",
       "      <td>97</td>\n",
       "      <td>Headphones</td>\n",
       "      <td>Electronics</td>\n",
       "      <td>NaN</td>\n",
       "      <td>12-04-2023</td>\n",
       "      <td>9</td>\n",
       "      <td>6116.94</td>\n",
       "      <td>55052.46</td>\n",
       "    </tr>\n",
       "    <tr>\n",
       "      <th>97</th>\n",
       "      <td>98</td>\n",
       "      <td>Jeans</td>\n",
       "      <td>Fashion</td>\n",
       "      <td>Peshawar</td>\n",
       "      <td>07-02-2023</td>\n",
       "      <td>7</td>\n",
       "      <td>27301.67</td>\n",
       "      <td>191111.69</td>\n",
       "    </tr>\n",
       "    <tr>\n",
       "      <th>98</th>\n",
       "      <td>99</td>\n",
       "      <td>Backpack</td>\n",
       "      <td>Fashion</td>\n",
       "      <td>Lahore</td>\n",
       "      <td>23-12-2023</td>\n",
       "      <td>3</td>\n",
       "      <td>11813.23</td>\n",
       "      <td>35439.69</td>\n",
       "    </tr>\n",
       "    <tr>\n",
       "      <th>99</th>\n",
       "      <td>100</td>\n",
       "      <td>Smartphone</td>\n",
       "      <td>Electronics</td>\n",
       "      <td>Karachi</td>\n",
       "      <td>24-02-2023</td>\n",
       "      <td>9</td>\n",
       "      <td>26073.48</td>\n",
       "      <td>234661.32</td>\n",
       "    </tr>\n",
       "  </tbody>\n",
       "</table>\n",
       "<p>100 rows × 8 columns</p>\n",
       "</div>"
      ],
      "text/plain": [
       "    Order ID       Product Name     Category       City  Order Date  \\\n",
       "0          1             Laptop  Electronics    Karachi  21-05-2023   \n",
       "1          2             Laptop  Electronics        NaN  14-02-2023   \n",
       "2          3             Laptop  Electronics        NaN  30-04-2023   \n",
       "3          4  Bluetooth Speaker  Electronics   Peshawar  03-08-2023   \n",
       "4          5     Wireless Mouse  Electronics     Lahore  24-12-2023   \n",
       "..       ...                ...          ...        ...         ...   \n",
       "95        96           Backpack      Fashion  Islamabad  17-02-2023   \n",
       "96        97         Headphones  Electronics        NaN  12-04-2023   \n",
       "97        98              Jeans      Fashion   Peshawar  07-02-2023   \n",
       "98        99           Backpack      Fashion     Lahore  23-12-2023   \n",
       "99       100         Smartphone  Electronics    Karachi  24-02-2023   \n",
       "\n",
       "    Units Sold  Unit Price  Total Sales  \n",
       "0            7    39928.88    279502.16  \n",
       "1            8    30133.59    241068.72  \n",
       "2            7    22568.72    157981.04  \n",
       "3            7     3375.14     23625.98  \n",
       "4            8    17018.58    136148.64  \n",
       "..         ...         ...          ...  \n",
       "95           2    41966.65     83933.30  \n",
       "96           9     6116.94     55052.46  \n",
       "97           7    27301.67    191111.69  \n",
       "98           3    11813.23     35439.69  \n",
       "99           9    26073.48    234661.32  \n",
       "\n",
       "[100 rows x 8 columns]"
      ]
     },
     "execution_count": 4,
     "metadata": {},
     "output_type": "execute_result"
    }
   ],
   "source": [
    "df = pd.read_csv(r'C:\\Users\\ziaah\\OneDrive\\Desktop\\Z_Work\\My Work\\Sir Raheel Task\\sales_data_shoptrendz.csv')\n",
    "df"
   ]
  },
  {
   "cell_type": "code",
   "execution_count": 3,
   "id": "98181253-50e7-481c-ab79-0b309fb175ee",
   "metadata": {},
   "outputs": [],
   "source": [
    "df_cleaned = df.dropna()"
   ]
  },
  {
   "cell_type": "code",
   "execution_count": 4,
   "id": "65ea0e59-5740-40c1-8b69-9f7a96dee132",
   "metadata": {},
   "outputs": [],
   "source": [
    "df['City'] = df['City'].fillna('GHQ')"
   ]
  },
  {
   "cell_type": "code",
   "execution_count": 5,
   "id": "a1d3c79e-7857-4a2d-9718-07cb98d6482d",
   "metadata": {},
   "outputs": [],
   "source": [
    "df['Unit Price'] = df['Unit Price'].fillna(df['Unit Price'].mean())"
   ]
  },
  {
   "cell_type": "code",
   "execution_count": 6,
   "id": "1d35e1fa-f3ab-4f7c-b04e-7522e762a98f",
   "metadata": {},
   "outputs": [],
   "source": [
    "df['Total Sales'] = df['Units Sold'] * df['Unit Price']"
   ]
  },
  {
   "cell_type": "code",
   "execution_count": 7,
   "id": "9a10c915-a192-48f3-b5e2-0d7c5f403439",
   "metadata": {},
   "outputs": [],
   "source": [
    "df['Order Date'] = pd.to_datetime(df['Order Date'], dayfirst=True)"
   ]
  },
  {
   "cell_type": "code",
   "execution_count": 8,
   "id": "3de54704-b7b0-4645-9372-53b480fa5894",
   "metadata": {},
   "outputs": [],
   "source": [
    "df['Month'] = df['Order Date'].dt.to_period('M')"
   ]
  },
  {
   "cell_type": "code",
   "execution_count": 9,
   "id": "ce809832-59fd-4cf8-a1b2-e1f3ff2f41c3",
   "metadata": {},
   "outputs": [
    {
     "data": {
      "text/plain": [
       "Order ID        0\n",
       "Product Name    0\n",
       "Category        0\n",
       "City            0\n",
       "Order Date      0\n",
       "Units Sold      0\n",
       "Unit Price      0\n",
       "Total Sales     0\n",
       "Month           0\n",
       "dtype: int64"
      ]
     },
     "execution_count": 9,
     "metadata": {},
     "output_type": "execute_result"
    }
   ],
   "source": [
    "df.isnull().sum()"
   ]
  },
  {
   "cell_type": "code",
   "execution_count": 10,
   "id": "075d6c1e-d3bb-43b7-8b4d-46e9a70910c9",
   "metadata": {},
   "outputs": [
    {
     "data": {
      "text/plain": [
       "13379356.8184375"
      ]
     },
     "execution_count": 10,
     "metadata": {},
     "output_type": "execute_result"
    }
   ],
   "source": [
    "df['Total Sales'].sum()"
   ]
  },
  {
   "cell_type": "markdown",
   "id": "0020f1cc-7635-475d-a4a5-64c78734c6e6",
   "metadata": {},
   "source": [
    "# Part 2: Exploratory Data Analysis (EDA)\n",
    "\n",
    "1. Find:\n",
    " - Total number of orders\n",
    " - Total revenue\n",
    " - Average sales per order\n",
    " - Top 5 best-selling products\n",
    "\n",
    "2. Calculate:\n",
    " - Monthly sales trends\n",
    " - City-wise sales distribution\n",
    " - Category-wise revenue comparison\n"
   ]
  },
  {
   "cell_type": "code",
   "execution_count": 11,
   "id": "b3881e4f-67ec-4076-9750-925dbbc0bb26",
   "metadata": {},
   "outputs": [
    {
     "data": {
      "text/plain": [
       "100"
      ]
     },
     "execution_count": 11,
     "metadata": {},
     "output_type": "execute_result"
    }
   ],
   "source": [
    "df['Order ID'].count()"
   ]
  },
  {
   "cell_type": "code",
   "execution_count": 12,
   "id": "5f1a13a0-afdc-4d69-bfc8-be537fa3c636",
   "metadata": {},
   "outputs": [
    {
     "data": {
      "text/plain": [
       "13379356.8184375"
      ]
     },
     "execution_count": 12,
     "metadata": {},
     "output_type": "execute_result"
    }
   ],
   "source": [
    "df['Total Sales'].sum()"
   ]
  },
  {
   "cell_type": "code",
   "execution_count": 13,
   "id": "bde9a5e1-9cf0-42e2-9887-8d71bd6fa5e2",
   "metadata": {},
   "outputs": [
    {
     "name": "stdout",
     "output_type": "stream",
     "text": [
      "Average Sales per Order: 133793.568184375\n"
     ]
    }
   ],
   "source": [
    "average_sales_per_order = df['Total Sales'].sum() / df['Order ID'].nunique()\n",
    "print(\"Average Sales per Order:\", average_sales_per_order)"
   ]
  },
  {
   "cell_type": "code",
   "execution_count": 14,
   "id": "b5bee9e5-36d5-452d-ad97-07844b65461b",
   "metadata": {},
   "outputs": [
    {
     "data": {
      "text/plain": [
       "Product Name\n",
       "Laptop        2.293089e+06\n",
       "Smartwatch    2.023782e+06\n",
       "Sneakers      1.393787e+06\n",
       "Headphones    1.314844e+06\n",
       "Jeans         1.200438e+06\n",
       "Name: Total Sales, dtype: float64"
      ]
     },
     "execution_count": 14,
     "metadata": {},
     "output_type": "execute_result"
    }
   ],
   "source": [
    "top_revenue_products = (df.groupby('Product Name')['Total Sales'].sum().sort_values(ascending=False).head(5))\n",
    "top_revenue_products"
   ]
  },
  {
   "cell_type": "code",
   "execution_count": 15,
   "id": "befa7cd6-1845-4952-99e5-7721a1a99360",
   "metadata": {},
   "outputs": [
    {
     "data": {
      "text/html": [
       "<div>\n",
       "<style scoped>\n",
       "    .dataframe tbody tr th:only-of-type {\n",
       "        vertical-align: middle;\n",
       "    }\n",
       "\n",
       "    .dataframe tbody tr th {\n",
       "        vertical-align: top;\n",
       "    }\n",
       "\n",
       "    .dataframe thead th {\n",
       "        text-align: right;\n",
       "    }\n",
       "</style>\n",
       "<table border=\"1\" class=\"dataframe\">\n",
       "  <thead>\n",
       "    <tr style=\"text-align: right;\">\n",
       "      <th></th>\n",
       "      <th>Order ID</th>\n",
       "      <th>Product Name</th>\n",
       "      <th>Category</th>\n",
       "      <th>City</th>\n",
       "      <th>Order Date</th>\n",
       "      <th>Units Sold</th>\n",
       "      <th>Unit Price</th>\n",
       "      <th>Total Sales</th>\n",
       "      <th>Month</th>\n",
       "    </tr>\n",
       "  </thead>\n",
       "  <tbody>\n",
       "    <tr>\n",
       "      <th>0</th>\n",
       "      <td>1</td>\n",
       "      <td>Laptop</td>\n",
       "      <td>Electronics</td>\n",
       "      <td>Karachi</td>\n",
       "      <td>2023-05-21</td>\n",
       "      <td>7</td>\n",
       "      <td>39928.88</td>\n",
       "      <td>279502.16</td>\n",
       "      <td>2023-05</td>\n",
       "    </tr>\n",
       "    <tr>\n",
       "      <th>1</th>\n",
       "      <td>2</td>\n",
       "      <td>Laptop</td>\n",
       "      <td>Electronics</td>\n",
       "      <td>GHQ</td>\n",
       "      <td>2023-02-14</td>\n",
       "      <td>8</td>\n",
       "      <td>30133.59</td>\n",
       "      <td>241068.72</td>\n",
       "      <td>2023-02</td>\n",
       "    </tr>\n",
       "    <tr>\n",
       "      <th>2</th>\n",
       "      <td>3</td>\n",
       "      <td>Laptop</td>\n",
       "      <td>Electronics</td>\n",
       "      <td>GHQ</td>\n",
       "      <td>2023-04-30</td>\n",
       "      <td>7</td>\n",
       "      <td>22568.72</td>\n",
       "      <td>157981.04</td>\n",
       "      <td>2023-04</td>\n",
       "    </tr>\n",
       "    <tr>\n",
       "      <th>3</th>\n",
       "      <td>4</td>\n",
       "      <td>Bluetooth Speaker</td>\n",
       "      <td>Electronics</td>\n",
       "      <td>Peshawar</td>\n",
       "      <td>2023-08-03</td>\n",
       "      <td>7</td>\n",
       "      <td>3375.14</td>\n",
       "      <td>23625.98</td>\n",
       "      <td>2023-08</td>\n",
       "    </tr>\n",
       "    <tr>\n",
       "      <th>4</th>\n",
       "      <td>5</td>\n",
       "      <td>Wireless Mouse</td>\n",
       "      <td>Electronics</td>\n",
       "      <td>Lahore</td>\n",
       "      <td>2023-12-24</td>\n",
       "      <td>8</td>\n",
       "      <td>17018.58</td>\n",
       "      <td>136148.64</td>\n",
       "      <td>2023-12</td>\n",
       "    </tr>\n",
       "    <tr>\n",
       "      <th>...</th>\n",
       "      <td>...</td>\n",
       "      <td>...</td>\n",
       "      <td>...</td>\n",
       "      <td>...</td>\n",
       "      <td>...</td>\n",
       "      <td>...</td>\n",
       "      <td>...</td>\n",
       "      <td>...</td>\n",
       "      <td>...</td>\n",
       "    </tr>\n",
       "    <tr>\n",
       "      <th>95</th>\n",
       "      <td>96</td>\n",
       "      <td>Backpack</td>\n",
       "      <td>Fashion</td>\n",
       "      <td>Islamabad</td>\n",
       "      <td>2023-02-17</td>\n",
       "      <td>2</td>\n",
       "      <td>41966.65</td>\n",
       "      <td>83933.30</td>\n",
       "      <td>2023-02</td>\n",
       "    </tr>\n",
       "    <tr>\n",
       "      <th>96</th>\n",
       "      <td>97</td>\n",
       "      <td>Headphones</td>\n",
       "      <td>Electronics</td>\n",
       "      <td>GHQ</td>\n",
       "      <td>2023-04-12</td>\n",
       "      <td>9</td>\n",
       "      <td>6116.94</td>\n",
       "      <td>55052.46</td>\n",
       "      <td>2023-04</td>\n",
       "    </tr>\n",
       "    <tr>\n",
       "      <th>97</th>\n",
       "      <td>98</td>\n",
       "      <td>Jeans</td>\n",
       "      <td>Fashion</td>\n",
       "      <td>Peshawar</td>\n",
       "      <td>2023-02-07</td>\n",
       "      <td>7</td>\n",
       "      <td>27301.67</td>\n",
       "      <td>191111.69</td>\n",
       "      <td>2023-02</td>\n",
       "    </tr>\n",
       "    <tr>\n",
       "      <th>98</th>\n",
       "      <td>99</td>\n",
       "      <td>Backpack</td>\n",
       "      <td>Fashion</td>\n",
       "      <td>Lahore</td>\n",
       "      <td>2023-12-23</td>\n",
       "      <td>3</td>\n",
       "      <td>11813.23</td>\n",
       "      <td>35439.69</td>\n",
       "      <td>2023-12</td>\n",
       "    </tr>\n",
       "    <tr>\n",
       "      <th>99</th>\n",
       "      <td>100</td>\n",
       "      <td>Smartphone</td>\n",
       "      <td>Electronics</td>\n",
       "      <td>Karachi</td>\n",
       "      <td>2023-02-24</td>\n",
       "      <td>9</td>\n",
       "      <td>26073.48</td>\n",
       "      <td>234661.32</td>\n",
       "      <td>2023-02</td>\n",
       "    </tr>\n",
       "  </tbody>\n",
       "</table>\n",
       "<p>100 rows × 9 columns</p>\n",
       "</div>"
      ],
      "text/plain": [
       "    Order ID       Product Name     Category       City Order Date  \\\n",
       "0          1             Laptop  Electronics    Karachi 2023-05-21   \n",
       "1          2             Laptop  Electronics        GHQ 2023-02-14   \n",
       "2          3             Laptop  Electronics        GHQ 2023-04-30   \n",
       "3          4  Bluetooth Speaker  Electronics   Peshawar 2023-08-03   \n",
       "4          5     Wireless Mouse  Electronics     Lahore 2023-12-24   \n",
       "..       ...                ...          ...        ...        ...   \n",
       "95        96           Backpack      Fashion  Islamabad 2023-02-17   \n",
       "96        97         Headphones  Electronics        GHQ 2023-04-12   \n",
       "97        98              Jeans      Fashion   Peshawar 2023-02-07   \n",
       "98        99           Backpack      Fashion     Lahore 2023-12-23   \n",
       "99       100         Smartphone  Electronics    Karachi 2023-02-24   \n",
       "\n",
       "    Units Sold  Unit Price  Total Sales    Month  \n",
       "0            7    39928.88    279502.16  2023-05  \n",
       "1            8    30133.59    241068.72  2023-02  \n",
       "2            7    22568.72    157981.04  2023-04  \n",
       "3            7     3375.14     23625.98  2023-08  \n",
       "4            8    17018.58    136148.64  2023-12  \n",
       "..         ...         ...          ...      ...  \n",
       "95           2    41966.65     83933.30  2023-02  \n",
       "96           9     6116.94     55052.46  2023-04  \n",
       "97           7    27301.67    191111.69  2023-02  \n",
       "98           3    11813.23     35439.69  2023-12  \n",
       "99           9    26073.48    234661.32  2023-02  \n",
       "\n",
       "[100 rows x 9 columns]"
      ]
     },
     "execution_count": 15,
     "metadata": {},
     "output_type": "execute_result"
    }
   ],
   "source": [
    "df"
   ]
  },
  {
   "cell_type": "code",
   "execution_count": 16,
   "id": "2a6b2ef3-3f51-4ba3-9f31-8fd443e78ec3",
   "metadata": {},
   "outputs": [
    {
     "data": {
      "text/plain": [
       "Month\n",
       "2023-01    8.030770e+05\n",
       "2023-02    2.438471e+06\n",
       "2023-03    5.555226e+05\n",
       "2023-04    6.703306e+05\n",
       "2023-05    1.645136e+06\n",
       "2023-06    5.695897e+05\n",
       "2023-07    1.089333e+06\n",
       "2023-08    1.261043e+06\n",
       "2023-09    9.097484e+05\n",
       "2023-10    8.437833e+05\n",
       "2023-11    1.173879e+06\n",
       "2023-12    1.419443e+06\n",
       "Freq: M, Name: Total Sales, dtype: float64"
      ]
     },
     "execution_count": 16,
     "metadata": {},
     "output_type": "execute_result"
    }
   ],
   "source": [
    "monthly_sales = df.groupby('Month')['Total Sales'].sum()\n",
    "monthly_sales"
   ]
  },
  {
   "cell_type": "code",
   "execution_count": 17,
   "id": "6e5a37b3-d19e-409c-8446-0fc43b5c4d12",
   "metadata": {},
   "outputs": [
    {
     "data": {
      "text/plain": [
       "City\n",
       "Faisalabad    2.689697e+06\n",
       "GHQ           4.619325e+05\n",
       "Islamabad     1.908888e+06\n",
       "Karachi       3.384682e+06\n",
       "Lahore        2.852734e+06\n",
       "Peshawar      2.081423e+06\n",
       "Name: Total Sales, dtype: float64"
      ]
     },
     "execution_count": 17,
     "metadata": {},
     "output_type": "execute_result"
    }
   ],
   "source": [
    "City_wise_sales = df.groupby('City')['Total Sales'].sum()\n",
    "City_wise_sales"
   ]
  },
  {
   "cell_type": "code",
   "execution_count": 18,
   "id": "574a7663-7d82-4e2f-985d-c79e7253f2c0",
   "metadata": {},
   "outputs": [
    {
     "data": {
      "text/plain": [
       "Category\n",
       "Electronics    8.722242e+06\n",
       "Fashion        4.657115e+06\n",
       "Name: Total Sales, dtype: float64"
      ]
     },
     "execution_count": 18,
     "metadata": {},
     "output_type": "execute_result"
    }
   ],
   "source": [
    "Category_wise_sales = df.groupby('Category')['Total Sales'].sum()\n",
    "Category_wise_sales "
   ]
  },
  {
   "cell_type": "markdown",
   "id": "f70a906e-dda1-4852-8cc0-d562ef1271f5",
   "metadata": {},
   "source": [
    "# Part 3: Data Visualization using Matplotlib\n",
    "Create the following plots using Matplotlib:\n",
    "- Line plot of monthly sales.\n",
    "- Bar chart of top 5 products by units sold.\n",
    "- Pie chart of category-wise revenue share.\n",
    "- Horizontal bar plot of city-wise total sales.\n",
    " >Use proper titles, labels, grid, and colors."
   ]
  },
  {
   "cell_type": "code",
   "execution_count": 21,
   "id": "79be2797-ddd9-450b-a651-a71c532dc638",
   "metadata": {},
   "outputs": [],
   "source": [
    "import matplotlib.pyplot as pt"
   ]
  },
  {
   "cell_type": "code",
   "execution_count": 26,
   "id": "a56c5e68-528e-4f22-b93a-3700e88e7299",
   "metadata": {},
   "outputs": [
    {
     "data": {
      "image/png": "[encoded data removed]",
      "text/plain": [
       "<Figure size 640x480 with 1 Axes>"
      ]
     },
     "metadata": {},
     "output_type": "display_data"
    }
   ],
   "source": [
    "monthly_sales.plot(kind='line',ls='--',color='b', marker='o',label='monthly_sales')\n",
    "pt.title(\"Monthly sales trends\")\n",
    "pt.xlabel(\"Months\")\n",
    "pt.ylabel(\"Total Sales\")\n",
    "pt.grid(True)\n",
    "pt.legend()\n",
    "pt.tight_layout()\n",
    "pt.show()"
   ]
  },
  {
   "cell_type": "code",
   "execution_count": 42,
   "id": "08a2e680-37af-489a-a53b-f998b48aae82",
   "metadata": {},
   "outputs": [
    {
     "data": {
      "image/png": "[encoded data removed]",
      "text/plain": [
       "<Figure size 640x480 with 1 Axes>"
      ]
     },
     "metadata": {},
     "output_type": "display_data"
    }
   ],
   "source": [
    "top_revenue_products.plot(kind='bar',ls='--',color='#E4F527',label='top_revenue_products')\n",
    "pt.title(\"Top 5 best-selling products\")\n",
    "pt.xlabel(\"Best-selling products\")\n",
    "pt.ylabel(\"Total Sales\")\n",
    "pt.grid(True)\n",
    "pt.legend()\n",
    "pt.tight_layout()\n",
    "pt.show()"
   ]
  },
  {
   "cell_type": "code",
   "execution_count": 52,
   "id": "a706c637-7bd5-4239-a2f0-0bc4a22199e9",
   "metadata": {},
   "outputs": [
    {
     "data": {
      "image/png": "[encoded data removed]",
      "text/plain": [
       "<Figure size 640x480 with 1 Axes>"
      ]
     },
     "metadata": {},
     "output_type": "display_data"
    }
   ],
   "source": [
    "pt.pie(Category_wise_sales,labels=Category_wise_sales.index,autopct='%1.1f%%',startangle=140,colors=['yellow', '#FF69B4'])\n",
    "pt.title(\"Category-wise Revenue Comparison\")\n",
    "pt.axis('equal')\n",
    "pt.title(\"Category-wise revenue comparison\")\n",
    "pt.grid(True)\n",
    "pt.legend()\n",
    "pt.tight_layout()\n",
    "pt.show()"
   ]
  },
  {
   "cell_type": "code",
   "execution_count": 59,
   "id": "472e3694-1937-4561-ae87-d19e96b3dd1c",
   "metadata": {},
   "outputs": [
    {
     "data": {
      "image/png": "[encoded data removed]",
      "text/plain": [
       "<Figure size 640x480 with 1 Axes>"
      ]
     },
     "metadata": {},
     "output_type": "display_data"
    }
   ],
   "source": [
    "pt.barh(City_wise_sales.index, City_wise_sales.values, color='#FF69B4', height=0.7)\n",
    "\n",
    "pt.title(\"City-wise Revenue Comparison\")\n",
    "pt.xlabel(\"Total Sales\")\n",
    "pt.ylabel(\"City\")\n",
    "pt.grid(True, axis='x')\n",
    "pt.tight_layout()\n",
    "pt.show()"
   ]
  }
 ],
 "metadata": {
  "kernelspec": {
   "display_name": "Python 3 (ipykernel)",
   "language": "python",
   "name": "python3"
  },
  "language_info": {
   "codemirror_mode": {
    "name": "ipython",
    "version": 3
   },
   "file_extension": ".py",
   "mimetype": "text/x-python",
   "name": "python",
   "nbconvert_exporter": "python",
   "pygments_lexer": "ipython3",
   "version": "3.13.5"
  }
 },
 "nbformat": 4,
 "nbformat_minor": 5
}
